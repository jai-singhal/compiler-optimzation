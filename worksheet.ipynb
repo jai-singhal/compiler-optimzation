{
 "cells": [
  {
   "cell_type": "markdown",
   "metadata": {},
   "source": [
    "# 1. Add all possible optimzation flags"
   ]
  },
  {
   "cell_type": "code",
   "execution_count": 506,
   "metadata": {},
   "outputs": [],
   "source": [
    "BASE_FLAGS = [\"-O1\",\"-O2\",\"-O3\"]\n",
    "OPT_FLAGS = [\n",
    "    \"-fauto-inc-dec\",\n",
    "    \"-fbranch-count-reg\",\n",
    "    \"-fcombine-stack-adjustments\",\n",
    "    \"-fcompare-elim\",\n",
    "    \"-fcprop-registers\",\n",
    "    \"-fdce\",\n",
    "    \"-fdefer-pop\",\n",
    "    \"-fdelayed-branch\",\n",
    "    \"-fdse\",\n",
    "    \"-fforward-propagate\",\n",
    "    \"-fguess-branch-probability\",\n",
    "    \"-fif-conversion\",\n",
    "    \"-fif-conversion2\",\n",
    "    \"-finline-functions-called-once\",\n",
    "    \"-fipa-profile\",\n",
    "    \"-fipa-pure-const\",\n",
    "    \"-fipa-reference\",\n",
    "    \"-fmerge-constants\",\n",
    "    \"-fmove-loop-invariants\",\n",
    "    \"-fomit-frame-pointer\",\n",
    "    \"-freorder-blocks\",\n",
    "    \"-fshrink-wrap\",\n",
    "    \"-fsplit-wide-types\",\n",
    "    \"-fssa-phiopt\",\n",
    "    \"-ftree-bit-ccp\",\n",
    "    \"-ftree-ccp\",\n",
    "    \"-ftree-ch\",\n",
    "    \"-ftree-coalesce-vars\",\n",
    "    \"-ftree-copy-prop\",\n",
    "    \"-ftree-dce\",\n",
    "    \"-ftree-dominator-opts\",\n",
    "    \"-ftree-dse\",\n",
    "    \"-ftree-forwprop\",\n",
    "    \"-ftree-fre\",\n",
    "    \"-ftree-phiprop\",\n",
    "    \"-ftree-pta\",\n",
    "    \"-ftree-scev-cprop\",\n",
    "    \"-ftree-sink\",\n",
    "    \"-ftree-slsr\",\n",
    "    \"-ftree-sra\",\n",
    "    \"-ftree-ter\",\n",
    "    \"-funit-at-a-time\",\n",
    "\n",
    "\n",
    "    \"-falign-functions\", \n",
    "    \"-falign-jumps\",\n",
    "    \"-falign-labels\", \n",
    "    \"-falign-loops\",\n",
    "    \"-fcaller-saves\",\n",
    "    \"-fcrossjumping\",\n",
    "    \"-fcse-follow-jumps\" , \n",
    "    \"-fcse-skip-blocks\",\n",
    "    \"-fdelete-null-pointer-checks\",\n",
    "    \"-fdevirtualize\" , \n",
    "    \"-fdevirtualize-speculatively\",\n",
    "    \"-fexpensive-optimizations\",\n",
    "    \"-fgcse\",\n",
    "    \"-fgcse-lm\",\n",
    "    \"-fhoist-adjacent-loads\",\n",
    "    \"-finline-functions\",\n",
    "    \"-finline-small-functions\",\n",
    "    \"-findirect-inlining\",\n",
    "    \"-fipa-cp\", \n",
    "    \"-fipa-icf\",\n",
    "    \"-fipa-ra\",\n",
    "    \"-fipa-sra\",\n",
    "    \"-fisolate-erroneous-paths-dereference\",\n",
    "    \"-flra-remat\",\n",
    "    \"-foptimize-sibling-calls\",\n",
    "    \"-foptimize-strlen\",\n",
    "    \"-fpartial-inlining\",\n",
    "    \"-fpeephole2\",\n",
    "    \"-freorder-blocks-and-partition\",\n",
    "    \"-freorder-functions\",\n",
    "    \"-frerun-cse-after-loop\",\n",
    "    \"-fschedule-insns\",\n",
    "    \"-fschedule-insns2\",\n",
    "    \"-fsched-interblock\", \n",
    "    \"-fsched-spec\",\n",
    "    \"-fstrict-aliasing\",\n",
    "    \"-fthread-jumps\",\n",
    "    \"-ftree-builtin-call-dce\",\n",
    "    \"-ftree-pre\",\n",
    "    \"-ftree-switch-conversion\",\n",
    "    \"-ftree-tail-merge\",\n",
    "    \"-ftree-vrp\",\n",
    "\n",
    "    \n",
    "    \"-fgcse-after-reload\",\n",
    "    \"-fipa-cp-clone\",\n",
    "    \"-floop-interchange\",\n",
    "    \"-floop-unroll-and-jam\",\n",
    "    \"-fpeel-loops\",\n",
    "    \"-fpredictive-commoning\",\n",
    "    \"-ftree-loop-distribution\",\n",
    "    \"-ftree-loop-vectorize\",\n",
    "    \"-ftree-partial-pre\",\n",
    "    \"-ftree-slp-vectorize\",\n",
    "    \"-funswitch-loops\",\n",
    "    \"-fvect-cost-model\",\n",
    "    \"-fvect-cost-model=dynamic\",\n",
    "\n",
    "    \n",
    "    \"-falign-functions\",\n",
    "    \"-falign-jumps\",\n",
    "    \"-falign-labels\",\n",
    "    \"-falign-loops\",\n",
    "    \"-fprefetch-loop-arrays\",\n",
    "\n",
    "\n",
    "    \"-fbranch-count-reg\",\n",
    "    \"-fdelayed-branch\",\n",
    "    \"-fdse\",\n",
    "    \"-fif-conversion\",\n",
    "    \"-fif-conversion2\",\n",
    "    \"-finline-functions-called-once\",\n",
    "    \"-fmove-loop-invariants\",\n",
    "    \"-fssa-phiopt\",\n",
    "    \"-ftree-bit-ccp\",\n",
    "    \"-ftree-dse\",\n",
    "    \"-ftree-pta\",\n",
    "    \"-ftree-sra\"\n",
    "]"
   ]
  },
  {
   "cell_type": "code",
   "execution_count": 1030,
   "metadata": {},
   "outputs": [
    {
     "data": {
      "text/plain": [
       "114"
      ]
     },
     "execution_count": 1030,
     "metadata": {},
     "output_type": "execute_result"
    }
   ],
   "source": [
    "len(OPT_FLAGS)"
   ]
  },
  {
   "cell_type": "markdown",
   "metadata": {},
   "source": [
    "# Take sample dataset from 10 codes."
   ]
  },
  {
   "cell_type": "code",
   "execution_count": 785,
   "metadata": {},
   "outputs": [
    {
     "data": {
      "text/plain": [
       "['./benchmarks/mat1bench.c', './benchmarks/evobench.c']"
      ]
     },
     "execution_count": 785,
     "metadata": {},
     "output_type": "execute_result"
    }
   ],
   "source": [
    "# Take sample dataset from 10 codes.\n",
    "\n",
    "import os\n",
    "c_files = []\n",
    "\n",
    "for file in os.listdir(\"./benchmarks/\"):\n",
    "    if file.endswith(\".c\"):\n",
    "        c_files.append(os.path.join(\"./benchmarks\", file))\n",
    "\n",
    "import string\n",
    "\n",
    "def randomString(stringLength=8):\n",
    "    letters = string.ascii_lowercase + string.digits\n",
    "    return ''.join(random.choice(letters) for i in range(stringLength))\n",
    "\n",
    "c_files = [c_files[4], c_files[7]] \n",
    "c_files"
   ]
  },
  {
   "cell_type": "markdown",
   "metadata": {},
   "source": [
    "# Calculate for random flag selection"
   ]
  },
  {
   "cell_type": "code",
   "execution_count": null,
   "metadata": {},
   "outputs": [],
   "source": [
    "import random\n",
    "import time\n",
    "import subprocess as sp\n",
    "rounds = 5\n",
    "\n",
    "rand_ct = []\n",
    "rand_et = []\n",
    "\n",
    "while rounds:\n",
    "    rounds = rounds - 1\n",
    "    \n",
    "    try: os.mkdir(\"./benchmarks/executables/\")\n",
    "    except: pass\n",
    "    \n",
    "    total_ct = 0\n",
    "    total_et = 0\n",
    "\n",
    "    for i, cfile in enumerate(c_files):\n",
    "        outfile = randomString() + \".out\"\n",
    "        cmdBuild = [\"gcc\"] + random.sample(OPT_FLAGS, random.randint(5, 40)) +  [cfile, \"-o\", \"./benchmarks/executables/\" + outfile, \"-lm\"]\n",
    "        tick = time.time()\n",
    "        p = sp.call(cmdBuild)\n",
    "        tock = time.time()\n",
    "        total_ct += (tock-tick)*1000\n",
    "        \n",
    "        tick = time.time()\n",
    "        p = sp.call([\"./benchmarks/executables/\" + outfile])\n",
    "        tock = time.time()\n",
    "#         print(tock-tick)\n",
    "\n",
    "        os.remove(\"./benchmarks/executables/\" + outfile)\n",
    "        total_et += (tock-tick)*1000\n",
    "        \n",
    "    rand_ct.append(total_ct)\n",
    "    rand_et.append(total_et)\n",
    "\n",
    "\n",
    "print(rand_ct, rand_et)"
   ]
  },
  {
   "cell_type": "markdown",
   "metadata": {},
   "source": [
    "# Defining problem for MultiObjective Genetic algorithm"
   ]
  },
  {
   "cell_type": "code",
   "execution_count": 771,
   "metadata": {},
   "outputs": [],
   "source": [
    "from platypus import GeneticAlgorithm, Problem, Constraint, Binary, nondominated, unique, SPEA2, Real\n",
    "import time\n",
    "import subprocess as sp\n",
    "import os\n",
    "\n",
    "items = len(OPT_FLAGS)\n",
    "\n",
    "def gcc_compilation(x):\n",
    "    # 1st objective\n",
    "    selection = x[0]\n",
    "\n",
    "    total_ct = 0\n",
    "    total_et = 0\n",
    "    \n",
    "    for i, cfile in enumerate(c_files):\n",
    "        flags = []\n",
    "        for i in  range(items):\n",
    "            if selection[i]:\n",
    "                flags.append(OPT_FLAGS[i])\n",
    "        try:\n",
    "            outfile = randomString() + \".out\"\n",
    "\n",
    "            cmdBuild = [\"gcc\"] + flags + [cfile, \"-o\", \"./benchmarks/executables/\" + outfile, \"-lm\"]\n",
    "            tick = time.time()\n",
    "            p = sp.call(cmdBuild)\n",
    "            tock = time.time()\n",
    "            total_ct += tock-tick\n",
    "\n",
    "            cmd = [\"./benchmarks/executables/\" + outfile]\n",
    "            tick = time.time()\n",
    "            p = sp.call(cmd)\n",
    "            tock = time.time()\n",
    "            os.remove(\"./benchmarks/executables/\" + outfile)\n",
    "            total_et += tock-tick\n",
    "        except Exception as e:\n",
    "            print(\"Exception found\", e)\n",
    "            return 100000, 100000\n",
    "    # 3rd objective\n",
    "    #     t3 = os.stat('./a.out').st_size\n",
    "    return total_ct, total_et\n",
    "\n",
    "problem = Problem(1, 2)\n",
    "problem.types[0] = Binary(items)\n",
    "# problem.types[:] = [Binary(len(OPT_FLAGS)), Binary(len(OPT_FLAGS))]\n",
    "problem.directions[:] = Problem.MINIMIZE #all objective mininmize\n",
    "problem.constraints[:] = Constraint(\">\", 0)\n",
    "problem.function = gcc_compilation\n"
   ]
  },
  {
   "cell_type": "markdown",
   "metadata": {},
   "source": [
    "# SPEA2 optization algorithm runner"
   ]
  },
  {
   "cell_type": "code",
   "execution_count": null,
   "metadata": {},
   "outputs": [],
   "source": [
    "algorithm = SPEA2(problem)\n",
    "algorithm.run(5000)"
   ]
  },
  {
   "cell_type": "code",
   "execution_count": null,
   "metadata": {},
   "outputs": [],
   "source": [
    "for solution in unique(nondominated(algorithm.result)):\n",
    "    print(solution.objectives)\n",
    "    print(solution.variables)"
   ]
  },
  {
   "cell_type": "markdown",
   "metadata": {},
   "source": [
    "# NSGAII optimzation algorithm runner"
   ]
  },
  {
   "cell_type": "code",
   "execution_count": 645,
   "metadata": {},
   "outputs": [],
   "source": [
    "from platypus import NSGAII\n",
    "\n",
    "algorithm2 = NSGAII(problem)\n",
    "algorithm2.run(5000)"
   ]
  },
  {
   "cell_type": "code",
   "execution_count": null,
   "metadata": {},
   "outputs": [],
   "source": [
    "for solution in unique(nondominated(algorithm2.result)):\n",
    "    print(solution)"
   ]
  },
  {
   "cell_type": "markdown",
   "metadata": {},
   "source": [
    "# MOEA/D optimzation algorithm runner"
   ]
  },
  {
   "cell_type": "code",
   "execution_count": 646,
   "metadata": {},
   "outputs": [],
   "source": [
    "from platypus import MOEAD\n",
    "\n",
    "algorithm4 = MOEAD(problem)\n",
    "algorithm4.run(5000)"
   ]
  },
  {
   "cell_type": "code",
   "execution_count": null,
   "metadata": {},
   "outputs": [],
   "source": [
    "for solution in unique(nondominated(algorithm4.result)):\n",
    "    print(solution)"
   ]
  },
  {
   "cell_type": "code",
   "execution_count": 668,
   "metadata": {},
   "outputs": [],
   "source": [
    "def avg(num):\n",
    "    sumOfNumbers = 0\n",
    "    for t in num:\n",
    "        sumOfNumbers = sumOfNumbers + t\n",
    "\n",
    "    avge = sumOfNumbers / len(num)\n",
    "    return avge"
   ]
  },
  {
   "cell_type": "markdown",
   "metadata": {},
   "source": [
    "-O0\n",
    "No optimization (the default); generates unoptimized code but has the fastest compilation time.\n",
    "\n",
    "Note that many other compilers do substantial optimization even if ’no optimization’ is specified. With gcc, it is very unusual to use -O0 for production if execution time is of any concern, since -O0 means (almost) no optimization. This difference between gcc and other compilers should be kept in mind when doing performance comparisons.\n",
    "\n",
    "*\n",
    "-O1\n",
    "Moderate optimization; optimizes reasonably well but does not degrade compilation time significantly.\n",
    "\n",
    "*\n",
    "-O2\n",
    "Full optimization; generates highly optimized code and has the slowest compilation time.\n",
    "\n",
    "*\n",
    "-O3\n",
    "Full optimization as in -O2; also uses more aggressive automatic inlining of subprograms within a unit (Inlining of Subprograms) and attempts to vectorize loops.\n",
    "\n",
    "*\n",
    "-Os\n",
    "Optimize space usage (code and data) of resulting program."
   ]
  },
  {
   "cell_type": "markdown",
   "metadata": {},
   "source": [
    "# Runing standard optimzations O0,O1,O2,O3"
   ]
  },
  {
   "cell_type": "code",
   "execution_count": null,
   "metadata": {},
   "outputs": [],
   "source": [
    "import subprocess as sp\n",
    "import random\n",
    "import time\n",
    "o_ct = {\n",
    "    \"O0\": [],\n",
    "    \"O1\": [],\n",
    "    \"O2\": [],\n",
    "    \"O3\": [],\n",
    "}\n",
    "o_et = {\n",
    "    \"O0\": [],\n",
    "    \"O1\": [],\n",
    "    \"O2\": [],\n",
    "    \"O3\": [],\n",
    "}\n",
    "import time\n",
    "\n",
    "for i in range(3, -1, -1):\n",
    "\n",
    "    iters = 1\n",
    "    while iters:\n",
    "        iters = iters - 1\n",
    "        total_ct = 0\n",
    "        total_et = 0\n",
    "        for j, cfile in enumerate(c_files):\n",
    "            outfile = randomString() + \".out\"\n",
    "            cmdBuild = [\"gcc\", \"-O\" + str(i), cfile, \"-o\", \"./benchmarks/executables/\" + outfile, \"-lm\"]\n",
    "            tick = time.time()\n",
    "            p = sp.call(cmdBuild)\n",
    "\n",
    "            tock = time.time()\n",
    "            total_ct += (tock-tick)*1000\n",
    "\n",
    "            cmd = [\"./benchmarks/executables/\" + outfile]\n",
    "            tick = time.time()\n",
    "            p = sp.call(cmd)\n",
    "            tock = time.time()\n",
    "            total_et += (tock-tick)*1000\n",
    "            os.remove(\"./benchmarks/executables/\" + outfile)\n",
    "\n",
    "        o_ct[\"O\" + str(i)].append(total_ct)\n",
    "        o_et[\"O\" + str(i)].append(total_et)\n",
    "\n",
    "    print(\"-O{}  Compilation time: {}ms, Execution time: {}ms\".format(i, avg(o_ct[\"O\" + str(i)]), avg(o_et[\"O\" + str(i)])))\n"
   ]
  },
  {
   "cell_type": "markdown",
   "metadata": {},
   "source": [
    "# Consolidating results"
   ]
  },
  {
   "cell_type": "code",
   "execution_count": null,
   "metadata": {},
   "outputs": [],
   "source": [
    "spea_ct = []\n",
    "spea_et = []\n",
    "\n",
    "for solution in unique(nondominated(algorithm.result)):\n",
    "    spea_ct.append(list(solution.objectives)[0]*1000)\n",
    "    spea_et.append(list(solution.objectives)[1]*1000)\n",
    "spea_ct, spea_et"
   ]
  },
  {
   "cell_type": "code",
   "execution_count": null,
   "metadata": {},
   "outputs": [],
   "source": [
    "nsga_ct = []\n",
    "nsga_et = []\n",
    "\n",
    "for solution in unique(nondominated(algorithm2.result)):\n",
    "    nsga_ct.append(list(solution.objectives)[0]*1000)\n",
    "    nsga_et.append(list(solution.objectives)[1]*1000)\n",
    "nsga_ct, nsga_et"
   ]
  },
  {
   "cell_type": "code",
   "execution_count": null,
   "metadata": {},
   "outputs": [],
   "source": [
    "moead_ct = []\n",
    "moead_et = []\n",
    "\n",
    "for solution in unique(nondominated(algorithm4.result)):\n",
    "    moead_ct.append(list(solution.objectives)[0]*1000)\n",
    "    moead_et.append(list(solution.objectives)[1]*1000)\n",
    "moead_ct, moead_et"
   ]
  },
  {
   "cell_type": "markdown",
   "metadata": {},
   "source": [
    "# Comparision of Compilation and Execution time \\n of various compiler optimization approaches"
   ]
  },
  {
   "cell_type": "code",
   "execution_count": 1010,
   "metadata": {},
   "outputs": [
    {
     "data": {
      "image/png": "[encoded data removed]",
      "text/plain": [
       "<Figure size 432x288 with 1 Axes>"
      ]
     },
     "metadata": {
      "needs_background": "light"
     },
     "output_type": "display_data"
    }
   ],
   "source": [
    "# plt.plot(paes_ct, paes_et, \"y>\")\n",
    "plt.plot(nsga_ct, nsga_et, \"r*\",  label=\"marker=NSGA2\")\n",
    "plt.plot(spea_ct, spea_et, \"k.\", label=\"marker=SPEA2\")\n",
    "plt.plot(moead_ct, moead_et, \"bs\",  label=\"marker=MOEA/D\")\n",
    "\n",
    "plt.xlabel(\"Compilation Time(in ms)\")\n",
    "plt.ylabel(\"Execution Time(in ms)\")\n",
    "plt.title(\"Comparison of Compilation and Execution time \\n of various GA optimization approaches\")\n",
    "plt.legend(numpoints=1)\n",
    "plt.show()"
   ]
  },
  {
   "cell_type": "markdown",
   "metadata": {},
   "source": [
    "# Comparision of Compilation and Execution time \\n of various compiler optimization approaches"
   ]
  },
  {
   "cell_type": "code",
   "execution_count": 1011,
   "metadata": {},
   "outputs": [
    {
     "data": {
      "text/plain": [
       "Text(0.5, 1.0, 'Comparision of Compilation and Execution time \\n of various compiler optimization approaches')"
      ]
     },
     "execution_count": 1011,
     "metadata": {},
     "output_type": "execute_result"
    },
    {
     "data": {
      "image/png": "[encoded data removed]",
      "text/plain": [
       "<Figure size 432x288 with 1 Axes>"
      ]
     },
     "metadata": {
      "needs_background": "light"
     },
     "output_type": "display_data"
    }
   ],
   "source": [
    "# for marker in ['o', '.', ',', 'x', '+', 'v', '^', '<', '>', 's', 'd']:\n",
    "plt.plot([avg(spea_ct),], [avg(spea_et),], '.',\n",
    "         label=\"marker=SPEA2\")\n",
    "\n",
    "plt.plot([avg(nsga_ct),], [avg(nsga_et),], '*',\n",
    "         label=\"marker=NSGA2\")\n",
    "\n",
    "plt.plot([avg(moead_ct),], [avg(moead_et),], 's',\n",
    "         label=\"marker=MOEAD\")\n",
    "\n",
    "# plt.plot([avg(paes_ct),], [avg(paes_et),], 'v',\n",
    "#          label=\"marker=PAES\")\n",
    "\n",
    "# plt.plot([avg(o_et[\"O0\"]),], [avg(o_et[\"O0\"]),], '.',\n",
    "#          label=\"marker=O0\")\n",
    "\n",
    "plt.plot([avg(o_ct[\"O1\"]),], [avg(o_et[\"O1\"]),], '<',\n",
    "         label=\"marker=O1\")\n",
    "\n",
    "plt.plot([avg(o_ct[\"O2\"])], [avg(o_et[\"O2\"]),], '>',\n",
    "         label=\"marker=O2\")\n",
    "\n",
    "plt.plot([avg(o_ct[\"O3\"]),], [avg(o_et[\"O3\"]),], '^',\n",
    "         label=\"marker=O3\")\n",
    "\n",
    "\n",
    "# plt.plot([avg(rand_ct),], [avg(rand_et),], 's',\n",
    "#          label=\"marker=Random\")\n",
    "\n",
    "plt.legend(numpoints=1)\n",
    "# plt.xlim(0, 50);\n",
    "plt.xlabel(\"Compilation Time(in ms)\")\n",
    "plt.ylabel(\"Execution Time(in ms)\")\n",
    "plt.title(\"Comparision of Compilation and Execution time \\n of various compiler optimization approaches\")"
   ]
  },
  {
   "cell_type": "markdown",
   "metadata": {},
   "source": [
    "# Hypervolume"
   ]
  },
  {
   "cell_type": "code",
   "execution_count": null,
   "metadata": {},
   "outputs": [],
   "source": [
    "from platypus import Hypervolume, experiment, calculate, display\n",
    "\n",
    "hyp = Hypervolume(minimum=[0, 0, 0], maximum=[1, 1, 1])\n",
    "hyp_result = calculate(results, hyp)\n",
    "display(hyp_result, ndigits=5)\n",
    "\n",
    "print(hyp_result)"
   ]
  },
  {
   "cell_type": "markdown",
   "metadata": {},
   "source": [
    "# Compilation and Execution time of Optimization levels"
   ]
  },
  {
   "cell_type": "code",
   "execution_count": 1012,
   "metadata": {},
   "outputs": [
    {
     "data": {
      "text/plain": [
       "<Figure size 432x288 with 0 Axes>"
      ]
     },
     "metadata": {},
     "output_type": "display_data"
    },
    {
     "data": {
      "image/png": "[encoded data removed]",
      "text/plain": [
       "<Figure size 432x288 with 1 Axes>"
      ]
     },
     "metadata": {
      "needs_background": "light"
     },
     "output_type": "display_data"
    }
   ],
   "source": [
    "import matplotlib.pyplot as plt\n",
    "import numpy as np\n",
    "import collections\n",
    "fig = plt.figure()\n",
    "\n",
    "X = np.arange(4)\n",
    "fig = plt.figure()\n",
    "ax = fig.add_axes([0,0,1,1])\n",
    "\n",
    "oo_ct = []\n",
    "oo_et = []\n",
    "for key in sorted(o_ct):\n",
    "    oo_ct.append(o_ct[key][0])\n",
    "for key in sorted(o_et):\n",
    "    oo_et.append(o_et[key][0])\n",
    "  \n",
    "ax.bar(X + 0.00, oo_ct, color = 'r', width = 0.2, label = \"Compilation Time\", alpha = 0.8)\n",
    "ax.bar(X + 0.2, oo_et, color = 'y', width = 0.2, label = \"Execution Time\", alpha = 0.8)\n",
    "\n",
    "plt.xlabel(\"\")\n",
    "plt.ylabel(\"Time(in sec)\")\n",
    "plt.title('Compilation and Execution time of Optimization levels')\n",
    "plt.xticks(X + 0.1, ('- O0', '- O1', '- O2', '- O3'))\n",
    "\n",
    "plt.legend()\n",
    "\n",
    "plt.tight_layout()\n",
    "plt.show()\n"
   ]
  },
  {
   "cell_type": "code",
   "execution_count": 1024,
   "metadata": {},
   "outputs": [
    {
     "data": {
      "text/plain": [
       "<Figure size 432x288 with 0 Axes>"
      ]
     },
     "metadata": {},
     "output_type": "display_data"
    },
    {
     "data": {
      "image/png": "[encoded data removed]",
      "text/plain": [
       "<Figure size 432x288 with 1 Axes>"
      ]
     },
     "metadata": {
      "needs_background": "light"
     },
     "output_type": "display_data"
    }
   ],
   "source": [
    "import matplotlib.pyplot as plt\n",
    "import numpy as np\n",
    "fig = plt.figure()\n",
    "\n",
    "speedup_spea_ct = []\n",
    "speedup_spea_et = []\n",
    "\n",
    "for i in oo_ct[1:]:\n",
    "    speedup_spea_ct.append( (i-avg(spea_ct))*100/avg(spea_ct) )\n",
    "\n",
    "for i in oo_et[1:]:\n",
    "    speedup_spea_et.append( (i-avg(spea_et))*100/avg(spea_et) )\n",
    "\n",
    "X = np.arange(3)\n",
    "fig = plt.figure()\n",
    "ax = fig.add_axes([0,0,1,1])\n",
    "ax.bar(X + 0.00, speedup_spea_ct, color = 'r', width = 0.2, label = \"Compilation Time\", alpha = 0.8)\n",
    "ax.bar(X + 0.2, speedup_spea_et, color = 'y', width = 0.2, label = \"Execution Time\", alpha = 0.8)\n",
    "\n",
    "plt.xlabel(\"\")\n",
    "plt.ylabel(\"% Improvement\")\n",
    "plt.title('% Improvement of SPEA2 with default Optimization levels')\n",
    "plt.xticks(X + 0.1, ('- O1', '- O2', '- O3'))\n",
    "\n",
    "plt.legend()\n",
    "\n",
    "plt.tight_layout()\n",
    "plt.show()"
   ]
  },
  {
   "cell_type": "code",
   "execution_count": 1027,
   "metadata": {},
   "outputs": [
    {
     "data": {
      "text/plain": [
       "<Figure size 432x288 with 0 Axes>"
      ]
     },
     "metadata": {},
     "output_type": "display_data"
    },
    {
     "data": {
      "image/png": "[encoded data removed]",
      "text/plain": [
       "<Figure size 432x288 with 1 Axes>"
      ]
     },
     "metadata": {
      "needs_background": "light"
     },
     "output_type": "display_data"
    }
   ],
   "source": [
    "import matplotlib.pyplot as plt\n",
    "import numpy as np\n",
    "fig = plt.figure()\n",
    "\n",
    "speedup_nsga_ct = []\n",
    "speedup_nsga_et = []\n",
    "\n",
    "for i in oo_ct[1:]:\n",
    "    speedup_nsga_ct.append( (i-avg(nsga_ct))*100/avg(nsga_ct) )\n",
    "\n",
    "for i in oo_et[1:]:\n",
    "    speedup_nsga_et.append( (i-avg(nsga_et))*100/avg(nsga_et) )\n",
    "\n",
    "X = np.arange(3)\n",
    "fig = plt.figure()\n",
    "ax = fig.add_axes([0,0,1,1])\n",
    "ax.bar(X + 0.00, speedup_nsga_ct, color = 'r', width = 0.2, label = \"Compilation Time\", alpha = 0.8)\n",
    "ax.bar(X + 0.2, speedup_nsga_et, color = 'y', width = 0.2, label = \"Execution Time\", alpha = 0.8)\n",
    "\n",
    "plt.xlabel(\"\")\n",
    "plt.ylabel(\"% Improvement\")\n",
    "plt.title('% Improvement of NSGAII with default Optimization levels')\n",
    "plt.xticks(X + 0.1, ('- O1', '- O2', '- O3'))\n",
    "\n",
    "plt.legend()\n",
    "\n",
    "plt.tight_layout()\n",
    "plt.show()\n"
   ]
  },
  {
   "cell_type": "code",
   "execution_count": 1029,
   "metadata": {},
   "outputs": [
    {
     "data": {
      "text/plain": [
       "<Figure size 432x288 with 0 Axes>"
      ]
     },
     "metadata": {},
     "output_type": "display_data"
    },
    {
     "data": {
      "image/png": "[encoded data removed]",
      "text/plain": [
       "<Figure size 432x288 with 1 Axes>"
      ]
     },
     "metadata": {
      "needs_background": "light"
     },
     "output_type": "display_data"
    }
   ],
   "source": [
    "import matplotlib.pyplot as plt\n",
    "import numpy as np\n",
    "fig = plt.figure()\n",
    "\n",
    "speedup_moead_ct = []\n",
    "speedup_moead_et = []\n",
    "\n",
    "for i in oo_ct[1:]:\n",
    "    speedup_moead_ct.append( (i-avg(moead_ct))*100/avg(moead_ct) )\n",
    "\n",
    "for i in oo_et[1:]:\n",
    "    speedup_moead_et.append( (i-avg(moead_et))*100/avg(moead_et) )\n",
    "\n",
    "X = np.arange(3)\n",
    "fig = plt.figure()\n",
    "ax = fig.add_axes([0,0,1,1])\n",
    "ax.bar(X + 0.00, speedup_moead_ct, color = 'r', width = 0.2, label = \"Compilation Time\", alpha = 0.8)\n",
    "ax.bar(X + 0.2, speedup_moead_et, color = 'y', width = 0.2, label = \"Execution Time\", alpha = 0.8)\n",
    "\n",
    "plt.xlabel(\"\")\n",
    "plt.ylabel(\"% Improvement\")\n",
    "plt.title('% Improvement of MOEAD with default Optimization levels')\n",
    "plt.xticks(X + 0.1, ( '- O1', '- O2', '- O3'))\n",
    "\n",
    "plt.legend()\n",
    "\n",
    "plt.tight_layout()\n",
    "plt.show()"
   ]
  },
  {
   "cell_type": "code",
   "execution_count": null,
   "metadata": {},
   "outputs": [],
   "source": []
  }
 ],
 "metadata": {
  "kernelspec": {
   "display_name": "Python 3",
   "language": "python",
   "name": "python3"
  },
  "language_info": {
   "codemirror_mode": {
    "name": "ipython",
    "version": 3
   },
   "file_extension": ".py",
   "mimetype": "text/x-python",
   "name": "python",
   "nbconvert_exporter": "python",
   "pygments_lexer": "ipython3",
   "version": "3.5.2"
  }
 },
 "nbformat": 4,
 "nbformat_minor": 2
}
