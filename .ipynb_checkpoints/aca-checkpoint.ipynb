{
 "cells": [
  {
   "cell_type": "code",
   "execution_count": 3,
   "metadata": {},
   "outputs": [],
   "source": [
    "BASE_FLAGS = [\"-O1\",\"-O2\",\"-O3\"]\n",
    "OPT_FLAGS = [\n",
    "    \"-fauto-inc-dec\",\n",
    "    \"-fbranch-count-reg\",\n",
    "    \"-fcombine-stack-adjustments\",\n",
    "    \"-fcompare-elim\",\n",
    "    \"-fcprop-registers\",\n",
    "    \"-fdce\",\n",
    "    \"-fdefer-pop\",\n",
    "    \"-fdelayed-branch\",\n",
    "    \"-fdse\",\n",
    "    \"-fforward-propagate\",\n",
    "    \"-fguess-branch-probability\",\n",
    "    \"-fif-conversion\",\n",
    "    \"-fif-conversion2\",\n",
    "    \"-finline-functions-called-once\",\n",
    "    \"-fipa-profile\",\n",
    "    \"-fipa-pure-const\",\n",
    "    \"-fipa-reference\",\n",
    "    \"-fmerge-constants\",\n",
    "    \"-fmove-loop-invariants\",\n",
    "    \"-fomit-frame-pointer\",\n",
    "    \"-freorder-blocks\",\n",
    "    \"-fshrink-wrap\",\n",
    "    \"-fsplit-wide-types\",\n",
    "    \"-fssa-phiopt\",\n",
    "    \"-ftree-bit-ccp\",\n",
    "    \"-ftree-ccp\",\n",
    "    \"-ftree-ch\",\n",
    "    \"-ftree-coalesce-vars\",\n",
    "    \"-ftree-copy-prop\",\n",
    "    \"-ftree-dce\",\n",
    "    \"-ftree-dominator-opts\",\n",
    "    \"-ftree-dse\",\n",
    "    \"-ftree-forwprop\",\n",
    "    \"-ftree-fre\",\n",
    "    \"-ftree-phiprop\",\n",
    "    \"-ftree-pta\",\n",
    "    \"-ftree-scev-cprop\",\n",
    "    \"-ftree-sink\",\n",
    "    \"-ftree-slsr\",\n",
    "    \"-ftree-sra\",\n",
    "    \"-ftree-ter\",\n",
    "    \"-funit-at-a-time\",\n",
    "\n",
    "\n",
    "    \"-falign-functions\", \n",
    "    \"-falign-jumps\",\n",
    "    \"-falign-labels\", \n",
    "    \"-falign-loops\",\n",
    "    \"-fcaller-saves\",\n",
    "    \"-fcrossjumping\",\n",
    "    \"-fcse-follow-jumps\" , \n",
    "    \"-fcse-skip-blocks\",\n",
    "    \"-fdelete-null-pointer-checks\",\n",
    "    \"-fdevirtualize\" , \n",
    "    \"-fdevirtualize-speculatively\",\n",
    "    \"-fexpensive-optimizations\",\n",
    "    \"-fgcse\",\n",
    "    \"-fgcse-lm\",\n",
    "    \"-fhoist-adjacent-loads\",\n",
    "    \"-finline-functions\",\n",
    "    \"-finline-small-functions\",\n",
    "    \"-findirect-inlining\",\n",
    "    \"-fipa-cp\", \n",
    "    \"-fipa-icf\",\n",
    "    \"-fipa-ra\",\n",
    "    \"-fipa-sra\",\n",
    "    \"-fisolate-erroneous-paths-dereference\",\n",
    "    \"-flra-remat\",\n",
    "    \"-foptimize-sibling-calls\",\n",
    "    \"-foptimize-strlen\",\n",
    "    \"-fpartial-inlining\",\n",
    "    \"-fpeephole2\",\n",
    "    \"-freorder-blocks-and-partition\",\n",
    "    \"-freorder-functions\",\n",
    "    \"-frerun-cse-after-loop\",\n",
    "    \"-fschedule-insns\",\n",
    "    \"-fschedule-insns2\",\n",
    "    \"-fsched-interblock\", \n",
    "    \"-fsched-spec\",\n",
    "    \"-fstrict-aliasing\",\n",
    "    \"-fthread-jumps\",\n",
    "    \"-ftree-builtin-call-dce\",\n",
    "    \"-ftree-pre\",\n",
    "    \"-ftree-switch-conversion\",\n",
    "    \"-ftree-tail-merge\",\n",
    "    \"-ftree-vrp\",\n",
    "\n",
    "    \n",
    "    \"-fgcse-after-reload\",\n",
    "    \"-fipa-cp-clone\",\n",
    "    \"-floop-interchange\",\n",
    "    \"-floop-unroll-and-jam\",\n",
    "    \"-fpeel-loops\",\n",
    "    \"-fpredictive-commoning\",\n",
    "    \"-ftree-loop-distribution\",\n",
    "    \"-ftree-loop-vectorize\",\n",
    "    \"-ftree-partial-pre\",\n",
    "    \"-ftree-slp-vectorize\",\n",
    "    \"-funswitch-loops\",\n",
    "    \"-fvect-cost-model\",\n",
    "    \"-fvect-cost-model=dynamic\",\n",
    "\n",
    "    \n",
    "    \"-falign-functions\",\n",
    "    \"-falign-jumps\",\n",
    "    \"-falign-labels\",\n",
    "    \"-falign-loops\",\n",
    "    \"-fprefetch-loop-arrays\",\n",
    "\n",
    "\n",
    "    \"-fbranch-count-reg\",\n",
    "    \"-fdelayed-branch\",\n",
    "    \"-fdse\",\n",
    "    \"-fif-conversion\",\n",
    "    \"-fif-conversion2\",\n",
    "    \"-finline-functions-called-once\",\n",
    "    \"-fmove-loop-invariants\",\n",
    "    \"-fssa-phiopt\",\n",
    "    \"-ftree-bit-ccp\",\n",
    "    \"-ftree-dse\",\n",
    "    \"-ftree-pta\",\n",
    "    \"-ftree-sra\"\n",
    "]"
   ]
  },
  {
   "cell_type": "code",
   "execution_count": 39,
   "metadata": {},
   "outputs": [
    {
     "data": {
      "text/plain": [
       "['./benchmarks/huffbench.c',\n",
       " './benchmarks/custom.c',\n",
       " './benchmarks/linsmall.c',\n",
       " './benchmarks/almabench.c',\n",
       " './benchmarks/evobench.c']"
      ]
     },
     "execution_count": 39,
     "metadata": {},
     "output_type": "execute_result"
    }
   ],
   "source": [
    "import os\n",
    "c_files = []\n",
    "\n",
    "for file in os.listdir(\"./benchmarks/\"):\n",
    "    if file.endswith(\".c\"):\n",
    "        c_files.append(os.path.join(\"./benchmarks\", file))\n",
    "\n",
    "# for i in range(len(c_files)):\n",
    "#     with open(\"./benchmarks/executables/\" + str(i) + \".out\", 'w') as fp: \n",
    "#         pass\n",
    "  \n",
    "import string\n",
    "\n",
    "def randomString(stringLength=8):\n",
    "    letters = string.ascii_lowercase + string.digits\n",
    "    return ''.join(random.choice(letters) for i in range(stringLength))\n",
    "    \n",
    "c_files = random.sample(c_files, 5)\n",
    "c_files"
   ]
  },
  {
   "cell_type": "code",
   "execution_count": 73,
   "metadata": {},
   "outputs": [
    {
     "name": "stdout",
     "output_type": "stream",
     "text": [
      "[2.0035250186920166] [12.722544431686401]\n"
     ]
    }
   ],
   "source": [
    "import random\n",
    "import time\n",
    "import subprocess as sp\n",
    "rounds = 1\n",
    "\n",
    "rand_ct = []\n",
    "rand_et = []\n",
    "\n",
    "while rounds:\n",
    "    rounds = rounds - 1\n",
    "    \n",
    "    try: os.mkdir(\"./benchmarks/executables/\")\n",
    "    except: pass\n",
    "    \n",
    "    total_ct = 0\n",
    "    total_et = 0\n",
    "\n",
    "    for i, cfile in enumerate(c_files):\n",
    "        outfile = randomString() + \".out\"\n",
    "        cmdBuild = [\"gcc\"] + random.sample(OPT_FLAGS, 20) +  [cfile, \"-o\", \"./benchmarks/executables/\" + outfile, \"-lm\"]\n",
    "        tick = time.time()\n",
    "        p = sp.call(cmdBuild)\n",
    "        tock = time.time()\n",
    "        total_ct += tock-tick\n",
    "        \n",
    "        tick = time.time()\n",
    "        p = sp.call([\"./benchmarks/executables/\" + outfile])\n",
    "        tock = time.time()\n",
    "#         print(tock-tick)\n",
    "\n",
    "        os.remove(\"./benchmarks/executables/\" + outfile)\n",
    "        total_et += tock-tick\n",
    "        \n",
    "    rand_ct.append(total_ct)\n",
    "    rand_et.append(total_et)\n",
    "\n",
    "\n",
    "print(rand_ct, rand_et)"
   ]
  },
  {
   "cell_type": "code",
   "execution_count": 74,
   "metadata": {},
   "outputs": [],
   "source": [
    "from platypus import GeneticAlgorithm, Problem, Constraint, Binary, nondominated, unique, SPEA2, Real\n",
    "import time\n",
    "import subprocess as sp\n",
    "import os\n",
    "\n",
    "items = len(OPT_FLAGS)\n",
    "\n",
    "def gcc_compilation(x):\n",
    "    # 1st objective\n",
    "    selection = x[0]\n",
    "\n",
    "    total_ct = 0\n",
    "    total_et = 0\n",
    "    \n",
    "    for i, cfile in enumerate(c_files):\n",
    "        flags = []\n",
    "        for i in  range(items):\n",
    "            if selection[i]:\n",
    "                flags.append(OPT_FLAGS[i])\n",
    "        try:\n",
    "            outfile = randomString() + \".out\"\n",
    "\n",
    "            cmdBuild = [\"gcc\"] + flags + [cfile, \"-o\", \"./benchmarks/executables/\" + outfile, \"-lm\"]\n",
    "            tick = time.time()\n",
    "            p = sp.call(cmdBuild)\n",
    "            tock = time.time()\n",
    "            total_ct += tock-tick\n",
    "\n",
    "            cmd = [\"./benchmarks/executables/\" + outfile]\n",
    "            tick = time.time()\n",
    "            p = sp.call(cmd)\n",
    "            tock = time.time()\n",
    "            os.remove(\"./benchmarks/executables/\" + outfile)\n",
    "            total_et += tock-tick\n",
    "        except Exception as e:\n",
    "            print(\"Exception found\", e)\n",
    "            return 100, 100\n",
    "    # 3rd objective\n",
    "    #     t3 = os.stat('./a.out').st_size\n",
    "    return total_ct, total_et\n",
    "\n",
    "problem = Problem(1, 2)\n",
    "problem.types[0] = Binary(items)\n",
    "# problem.types[:] = [Binary(len(OPT_FLAGS)), Binary(len(OPT_FLAGS))]\n",
    "problem.directions[:] = Problem.MINIMIZE #all objective mininmize\n",
    "problem.constraints[:] = Constraint(\">\", 0)\n",
    "problem.function = gcc_compilation\n"
   ]
  },
  {
   "cell_type": "code",
   "execution_count": null,
   "metadata": {},
   "outputs": [],
   "source": [
    "algorithm = SPEA2(problem)\n",
    "algorithm.run(100)"
   ]
  },
  {
   "cell_type": "code",
   "execution_count": 45,
   "metadata": {
    "collapsed": true
   },
   "outputs": [
    {
     "name": "stdout",
     "output_type": "stream",
     "text": [
      "[0.8286757469177246, 5.749755144119263]\n",
      "[[False, True, True, False, True, True, True, False, True, True, False, True, True, False, False, True, False, True, True, False, True, False, True, False, False, False, True, True, True, False, False, True, True, True, False, False, True, False, False, True, True, True, True, True, True, True, True, False, True, True, True, False, True, False, True, True, True, False, False, True, False, False, True, False, False, True, False, False, False, True, False, False, False, False, True, False, True, False, True, True, True, True, True, True, True, True, True, False, False, False, False, True, False, False, True, False, False, False, True, False, True, True, True, False, False, True, False, False, False, False, True, True, True, True]]\n",
      "[0.8233118057250977, 5.921046733856201]\n",
      "[[True, True, True, True, False, True, False, True, False, False, True, True, False, False, True, False, True, False, False, True, True, True, True, False, False, False, True, True, False, False, True, True, False, True, False, False, False, False, False, True, False, False, True, True, True, True, False, True, False, False, True, False, False, False, False, False, False, True, False, True, True, False, False, False, False, True, False, True, False, True, True, True, True, True, True, False, False, False, True, True, True, False, True, True, False, False, True, True, False, True, False, True, False, True, True, True, True, False, False, False, False, True, False, False, True, False, True, False, False, True, False, True, False, True]]\n",
      "[0.8285455703735352, 5.750653982162476]\n",
      "[[False, False, False, False, False, False, False, False, False, False, True, False, False, True, False, False, False, False, True, True, True, True, True, False, True, False, True, True, True, False, True, False, True, False, True, True, True, True, True, True, True, True, False, False, False, True, True, True, False, True, False, False, True, False, True, False, False, True, False, False, False, False, True, False, True, False, True, True, True, False, True, False, False, True, False, True, True, False, False, False, False, False, False, True, True, False, True, False, True, False, True, False, False, False, False, True, True, False, True, True, True, False, False, True, False, True, True, False, True, True, False, False, False, False]]\n",
      "[0.8289527893066406, 5.7206666469573975]\n",
      "[[True, False, True, True, False, True, True, False, False, False, True, True, True, False, True, False, False, True, False, False, True, True, True, True, True, False, False, False, True, True, True, True, False, False, False, False, False, True, True, False, True, False, True, False, True, True, False, True, True, False, False, False, False, True, False, False, False, False, False, False, True, False, True, False, True, False, True, True, False, False, True, False, False, False, True, False, True, True, True, False, True, False, True, False, True, False, True, False, True, False, False, True, True, True, True, True, False, False, False, True, False, False, False, True, True, True, False, True, False, False, False, True, True, True]]\n",
      "[0.8539257049560547, 5.706303834915161]\n",
      "[[False, True, True, False, True, False, False, False, False, True, True, True, True, False, True, True, False, True, False, False, False, False, False, True, False, False, True, True, True, True, True, False, True, True, False, True, False, True, True, False, True, True, False, False, False, False, False, True, True, False, True, False, False, True, False, False, True, True, False, False, False, True, False, True, True, False, True, False, False, False, True, False, False, False, False, False, False, False, True, True, False, True, False, False, False, False, True, True, True, False, False, True, False, True, True, True, False, True, False, True, False, True, True, True, True, True, False, True, False, False, False, False, False, True]]\n",
      "[0.8251192569732666, 5.906599998474121]\n",
      "[[False, True, True, False, True, False, True, True, False, False, True, False, True, False, True, True, False, False, False, True, True, True, True, False, False, False, True, True, False, False, False, True, True, False, False, True, True, False, False, True, False, True, True, True, True, True, True, True, True, True, True, False, False, False, False, True, False, True, True, True, False, False, True, False, False, True, False, False, False, False, False, False, False, False, False, False, True, True, False, False, False, True, False, False, False, True, True, True, True, True, True, True, False, False, True, False, True, False, False, True, True, False, True, False, True, True, True, False, True, True, True, True, True, False]]\n",
      "[0.8251433372497559, 5.762421131134033]\n",
      "[[False, True, True, False, False, False, True, False, True, True, False, False, False, True, True, True, False, False, False, False, True, True, True, False, False, True, False, False, False, True, True, True, False, True, False, False, False, True, False, False, True, False, False, False, True, False, False, False, False, True, False, True, True, False, False, True, False, True, True, True, False, True, False, False, True, False, True, False, True, False, True, True, True, False, True, True, False, False, True, False, False, True, True, False, True, False, False, True, False, True, False, True, True, True, False, True, False, True, False, True, False, True, False, False, False, True, False, False, False, False, False, True, False, False]]\n",
      "[0.8266949653625488, 5.760258674621582]\n",
      "[[False, True, False, True, False, True, False, True, True, False, False, True, False, True, False, True, False, True, True, False, True, False, False, True, True, True, True, True, False, True, False, False, False, True, False, True, False, True, False, False, True, True, True, False, True, True, False, False, False, True, False, True, True, False, False, False, True, False, True, False, True, True, False, True, False, False, True, True, True, True, True, True, True, True, False, False, True, False, True, True, False, False, True, False, True, False, False, False, True, True, False, False, False, False, True, True, True, False, False, True, False, False, False, False, False, True, False, False, False, False, False, True, False, True]]\n",
      "[0.8212251663208008, 5.961928367614746]\n",
      "[[True, True, True, False, True, False, False, True, False, False, True, True, False, True, True, False, True, False, False, False, True, True, False, False, False, True, True, False, False, True, False, True, True, True, True, True, True, False, False, True, False, True, False, False, True, True, False, False, False, False, False, False, False, True, True, False, False, True, False, False, False, False, True, True, False, False, True, False, False, False, True, False, True, False, False, False, True, True, False, True, False, False, False, False, False, False, False, True, False, False, False, True, False, True, True, True, True, True, False, False, False, False, True, False, False, True, False, False, False, False, False, True, True, False]]\n",
      "[0.8486001491546631, 5.709623098373413]\n",
      "[[True, True, False, True, True, False, True, True, True, True, True, False, False, False, False, False, True, True, True, False, True, True, True, False, False, True, True, True, False, True, True, False, False, False, False, False, True, False, True, False, True, False, True, True, False, True, False, True, False, True, False, False, True, True, False, False, True, False, False, False, True, True, True, True, True, True, False, True, True, False, False, True, True, True, True, True, True, False, False, False, True, False, True, True, True, True, True, True, True, True, True, True, True, False, True, True, False, True, False, False, True, True, True, False, False, False, True, False, False, False, False, True, False, False]]\n"
     ]
    }
   ],
   "source": [
    "for solution in unique(nondominated(algorithm.result)):\n",
    "    print(solution.objectives)\n",
    "    print(solution.variables)"
   ]
  },
  {
   "cell_type": "code",
   "execution_count": null,
   "metadata": {},
   "outputs": [],
   "source": [
    "from platypus import NSGAII\n",
    "\n",
    "algorithm2 = NSGAII(problem)\n",
    "algorithm2.run(100)"
   ]
  },
  {
   "cell_type": "code",
   "execution_count": 349,
   "metadata": {
    "collapsed": true
   },
   "outputs": [
    {
     "name": "stdout",
     "output_type": "stream",
     "text": [
      "Solution[[False, True, False, False, True, False, False, False, True, False, False, True, True, True, False, True, False, True, False, False, False, False, True, True, False, False, False, False, False, False, True, True, False, True, False, False, False, False, True, True, False, True, True, True, True, True, False, False, False, True, True, False, False, True, True, False, False, False, True, False, True, False, False, False, False, True, False, True, True, False, False, False, False, True, False, False, False, False, False, False, False, False, False, False, True, False, True, True, True, False, True, True, False, False, False, True, True, True, True, True, False, True, False, True, True, False, False, False, False, False, False, True, True, True, True, False, True, True, True, True, True, True, True, False, False, False]|0.010935544967651367,0.011214494705200195|0]\n",
      "Solution[[False, False, True, False, True, False, False, False, False, False, False, False, False, True, False, False, True, False, True, True, True, True, True, True, True, True, False, True, False, True, False, True, False, True, False, False, False, True, True, False, False, False, False, True, True, False, False, True, True, True, False, True, True, True, False, False, False, True, False, False, True, False, True, False, True, True, False, True, True, True, True, True, True, True, False, False, False, False, True, False, True, True, False, True, False, True, True, False, True, True, True, True, False, False, False, True, False, True, True, False, False, True, False, False, False, True, False, False, False, True, True, True, True, False, False, True, True, True, True, False, False, False, True, True, False, False]|0.017719268798828125,0.00943613052368164|0]\n",
      "Solution[[True, True, False, False, False, False, False, True, False, False, False, False, False, True, True, False, True, True, True, False, False, True, False, True, False, True, True, False, True, True, False, True, False, True, False, True, False, False, False, False, False, False, False, True, True, True, True, True, True, True, False, False, True, True, False, False, True, True, False, False, False, False, False, False, False, False, False, True, True, True, True, False, False, False, False, False, False, True, False, False, False, True, True, False, False, False, True, False, True, False, True, False, False, True, True, True, False, False, True, True, True, True, False, True, True, True, False, False, False, False, False, True, True, True, False, False, True, True, True, False, False, True, True, False, False, False]|0.015231609344482422,0.010364770889282227|0]\n",
      "Solution[[False, True, False, True, True, True, False, False, False, False, True, False, True, True, False, True, False, True, True, True, False, True, False, True, False, False, False, False, False, True, False, True, True, True, True, False, True, False, True, True, True, True, True, True, True, True, False, False, True, True, True, False, True, False, True, False, True, False, False, False, False, True, False, True, False, False, False, False, True, False, True, False, False, True, False, False, False, True, False, False, False, True, True, False, False, True, True, True, True, False, False, False, True, True, True, True, True, True, True, False, True, True, False, True, True, True, False, True, False, False, True, True, True, True, False, True, False, True, True, False, True, False, True, True, False, False]|0.013178586959838867,0.010509729385375977|0]\n",
      "Solution[[True, True, True, False, False, True, True, True, True, False, True, False, False, False, True, False, False, False, True, True, False, False, True, True, True, False, False, True, False, False, True, False, True, False, False, False, False, False, True, True, True, True, True, True, True, True, False, True, True, True, True, False, True, False, False, False, False, True, False, False, True, True, True, True, False, True, True, True, False, True, False, False, True, False, False, False, False, True, True, False, True, True, True, True, False, True, True, False, True, False, True, False, False, True, False, True, True, True, True, True, False, True, False, False, False, False, True, True, False, False, False, False, False, False, False, False, True, True, True, False, True, False, False, True, False, True]|0.012049436569213867,0.010762929916381836|0]\n",
      "Solution[[True, True, False, False, True, False, False, False, True, False, False, False, True, True, False, True, True, True, False, False, False, False, True, True, False, False, True, False, False, True, True, True, False, False, False, True, False, True, True, True, False, True, True, True, True, True, False, False, False, True, True, False, True, True, True, False, True, False, True, False, True, True, False, False, False, True, True, True, True, False, False, False, False, True, False, False, False, True, False, False, False, False, False, False, False, False, True, True, True, False, True, True, False, True, False, True, True, True, True, False, False, True, False, True, True, True, False, True, False, False, True, True, True, True, True, False, True, True, True, True, True, True, True, False, True, False]|0.011411905288696289,0.010859489440917969|0]\n",
      "Solution[[True, False, True, False, False, False, True, True, False, True, True, True, True, False, True, False, True, False, False, True, True, False, True, False, False, False, False, False, True, False, True, False, False, False, False, False, False, False, True, False, True, False, False, True, False, True, True, True, False, True, False, True, False, True, True, False, False, True, True, False, True, False, False, True, False, False, True, True, False, False, True, False, False, False, False, True, True, False, True, False, False, True, False, False, False, False, False, False, False, True, True, True, False, False, False, True, False, False, False, False, False, False, False, False, False, True, False, False, True, True, True, False, True, False, True, False, True, True, True, False, True, False, True, False, False, False]|0.01291513442993164,0.010677814483642578|0]\n",
      "Solution[[False, True, True, False, False, True, False, True, True, True, False, True, False, True, False, False, False, False, True, False, False, False, True, True, True, False, False, True, False, False, True, False, False, True, False, True, False, False, True, False, False, False, True, False, False, True, False, False, False, False, True, False, False, False, True, False, True, False, False, True, True, False, True, True, False, True, False, True, True, True, False, False, False, False, False, False, False, True, False, False, False, False, True, False, False, True, True, False, True, True, True, False, False, False, False, True, True, False, True, True, True, True, False, True, True, False, False, False, True, False, False, False, True, True, False, False, True, True, True, True, True, False, True, False, False, False]|0.011385440826416016,0.011138439178466797|0]\n",
      "Solution[[False, True, True, False, False, True, True, True, True, False, False, False, False, True, False, False, True, False, True, False, False, False, True, True, False, False, False, False, False, False, True, False, False, True, False, False, True, False, False, True, True, False, True, True, False, True, False, True, True, True, False, False, False, True, True, False, True, False, True, True, True, False, False, False, False, True, False, True, False, False, False, False, False, False, False, False, False, True, False, False, False, True, False, False, True, False, True, False, True, False, True, True, False, False, True, True, True, False, True, True, True, True, False, False, False, False, False, False, True, False, False, False, True, False, False, False, True, False, True, False, True, True, False, False, True, False]|0.011196136474609375,0.011166095733642578|0]\n"
     ]
    }
   ],
   "source": [
    "for solution in unique(nondominated(algorithm2.result)):\n",
    "    print(solution)"
   ]
  },
  {
   "cell_type": "code",
   "execution_count": 346,
   "metadata": {},
   "outputs": [],
   "source": [
    "from platypus import PAES\n",
    "\n",
    "algorithm3 = PAES(problem)\n",
    "algorithm3.run(10000)"
   ]
  },
  {
   "cell_type": "code",
   "execution_count": 350,
   "metadata": {
    "collapsed": true
   },
   "outputs": [
    {
     "name": "stdout",
     "output_type": "stream",
     "text": [
      "Solution[[True, False, False, True, False, True, True, True, True, True, False, True, False, False, False, True, True, True, True, True, False, False, False, True, False, True, True, False, False, True, True, False, False, True, False, False, False, False, True, True, False, False, True, False, True, False, True, True, True, True, True, False, True, False, False, True, False, False, True, False, True, True, True, True, False, False, True, False, True, True, True, True, True, False, False, False, False, False, False, True, True, True, False, True, False, False, False, False, False, True, False, False, True, True, True, False, False, True, False, False, False, False, True, True, True, True, True, False, True, False, True, False, True, False, True, True, False, False, False, False, False, False, True, False, False, False]|0.011170625686645508,0.012287616729736328|0]\n",
      "Solution[[True, False, False, True, False, True, True, True, True, True, False, True, False, False, False, True, True, True, True, True, False, False, False, True, False, True, True, False, False, True, True, False, False, True, False, False, False, False, True, True, False, False, True, False, True, False, True, True, False, True, False, False, True, False, False, True, False, False, False, False, True, True, True, True, False, False, True, False, True, True, True, True, True, False, False, False, False, False, False, True, True, True, False, True, False, False, False, False, False, True, False, False, True, True, True, False, False, True, False, False, False, False, True, True, True, True, True, False, True, False, True, False, True, False, True, True, False, False, False, False, False, False, True, False, False, False]|0.018037080764770508,0.010340690612792969|0]\n",
      "Solution[[True, False, False, True, False, True, True, True, True, True, False, True, False, False, False, True, True, True, True, False, False, False, False, True, False, True, False, False, False, True, True, False, False, True, False, False, False, False, True, True, False, False, True, False, True, False, True, True, False, True, False, False, True, False, False, True, False, False, False, False, True, True, True, True, False, False, True, False, True, True, True, True, True, False, False, False, False, False, False, True, False, True, False, True, False, False, False, False, False, True, False, False, True, True, True, False, True, True, False, False, False, False, True, True, True, True, True, False, True, False, True, False, True, False, True, True, False, False, False, False, False, False, True, False, False, False]|0.011665821075439453,0.011359691619873047|0]\n",
      "Solution[[True, False, False, True, False, True, True, True, True, True, False, True, False, False, False, True, True, True, True, False, False, False, False, True, False, True, False, False, False, True, True, False, False, True, False, False, False, False, True, True, False, False, False, False, True, False, True, True, False, True, False, False, True, False, False, True, True, False, False, False, True, True, True, True, False, False, True, False, True, True, True, True, True, False, False, False, False, False, False, True, False, True, False, True, False, False, False, False, False, True, False, False, True, True, True, False, True, True, False, False, False, False, True, True, True, True, True, False, True, False, True, False, True, False, True, True, False, False, False, False, False, False, True, False, False, False]|0.011814117431640625,0.010895013809204102|0]\n",
      "Solution[[True, False, False, True, False, True, True, True, True, True, False, True, False, False, False, True, True, True, True, False, False, False, False, True, False, True, False, False, False, True, True, False, False, True, False, False, False, False, True, True, False, False, False, False, True, False, True, True, False, True, False, False, True, False, False, True, True, False, False, False, True, True, True, True, False, False, True, False, True, True, True, False, True, False, False, False, False, False, False, True, False, True, False, True, False, False, False, False, False, True, False, False, True, True, True, False, True, True, False, False, False, False, True, True, True, True, True, False, True, False, True, False, True, False, True, True, False, False, False, False, False, False, True, False, False, False]|0.012168645858764648,0.010821819305419922|0]\n",
      "Solution[[True, False, False, True, False, True, True, True, True, True, False, True, False, False, False, True, True, True, True, False, False, False, False, True, False, True, False, False, False, True, True, False, False, True, False, False, False, False, True, True, False, False, False, False, True, False, True, True, False, True, False, True, True, False, False, True, True, False, False, False, True, True, True, True, False, False, True, False, True, True, True, False, True, False, False, False, False, False, False, True, False, True, False, True, True, False, False, False, False, True, False, False, True, True, True, False, True, True, False, False, False, False, True, True, True, True, True, False, True, False, True, False, True, False, True, True, False, False, False, False, False, False, True, False, False, False]|0.010666608810424805,0.01318979263305664|0]\n",
      "Solution[[True, False, False, True, False, True, True, True, True, True, False, True, False, False, False, True, True, True, True, False, False, False, False, True, False, True, False, False, False, True, True, False, False, True, False, False, False, False, True, True, False, False, False, False, True, False, True, True, False, True, False, True, True, False, False, True, True, False, False, False, True, True, False, False, False, False, True, False, True, True, True, False, True, False, False, False, False, False, False, True, False, True, False, True, True, False, False, False, False, False, False, False, True, True, False, False, True, True, False, False, False, False, True, True, True, True, True, False, True, False, True, False, True, False, True, True, False, False, False, False, False, False, True, False, False, False]|0.013717174530029297,0.010703325271606445|0]\n",
      "Solution[[True, False, False, True, False, False, True, True, True, True, False, True, False, False, False, True, True, True, True, False, False, False, False, True, False, True, False, False, False, True, True, False, False, True, False, False, False, False, True, True, False, False, False, False, True, False, True, True, False, True, False, True, True, False, False, True, True, False, False, False, True, True, False, False, False, False, True, False, True, True, True, False, True, False, False, False, False, False, False, True, False, True, False, True, True, False, False, False, False, False, False, False, True, True, False, False, True, True, False, False, False, False, True, True, True, True, True, False, True, False, True, False, False, False, True, True, False, False, False, False, False, False, True, False, False, False]|0.013264179229736328,0.010801553726196289|0]\n",
      "Solution[[True, False, False, True, True, False, True, True, True, True, False, True, False, False, False, True, True, True, True, False, False, False, False, True, False, True, False, False, False, True, True, False, False, True, False, False, False, False, True, True, False, False, False, False, True, False, True, True, False, True, False, True, True, False, False, True, True, False, False, False, True, True, False, False, False, False, True, False, True, True, True, False, True, False, False, False, False, False, False, True, False, True, False, True, True, False, False, False, False, False, False, False, True, True, False, False, True, True, False, False, False, False, True, True, True, True, True, False, True, False, True, False, False, False, True, True, False, False, False, False, False, False, True, False, False, False]|0.011657953262329102,0.011975288391113281|0]\n",
      "Solution[[True, False, False, True, True, False, True, True, True, True, False, True, False, False, False, True, True, True, True, False, False, False, True, True, False, True, False, False, False, True, True, False, False, True, False, False, False, False, True, True, False, False, False, False, True, False, True, True, False, True, False, True, True, False, False, True, True, False, False, False, False, True, False, False, False, False, True, False, True, True, True, False, True, False, False, False, False, False, False, True, False, False, False, True, True, False, False, False, False, False, False, False, True, True, False, False, True, True, False, False, False, False, True, True, True, True, True, False, True, False, True, False, False, False, True, True, False, False, False, True, False, False, True, False, False, False]|0.011303901672363281,0.01209115982055664|0]\n"
     ]
    }
   ],
   "source": [
    "for solution in unique(nondominated(algorithm3.result)):\n",
    "    print(solution)"
   ]
  },
  {
   "cell_type": "code",
   "execution_count": null,
   "metadata": {},
   "outputs": [],
   "source": [
    "from platypus import MOEAD\n",
    "\n",
    "algorithm4 = MOEAD(problem)\n",
    "algorithm4.run(500)"
   ]
  },
  {
   "cell_type": "code",
   "execution_count": 351,
   "metadata": {
    "collapsed": true
   },
   "outputs": [
    {
     "name": "stdout",
     "output_type": "stream",
     "text": [
      "Solution[[False, True, False, True, False, True, False, False, False, False, True, True, False, False, False, True, False, False, True, True, True, False, True, True, True, False, False, True, False, False, True, True, False, False, True, False, False, True, False, False, False, False, True, True, False, True, False, False, False, False, True, True, True, True, False, True, True, False, False, False, False, True, True, False, False, True, True, False, True, False, True, False, True, False, True, False, True, False, True, True, False, False, True, True, False, False, False, False, False, True, False, False, True, False, False, False, False, False, True, False, True, True, True, True, True, False, False, False, True, True, True, False, True, False, False, False, True, False, True, False, True, False, True, True, True, False]|0.011132240295410156,0.011124134063720703|0]\n",
      "Solution[[True, True, True, True, True, True, True, False, False, False, True, True, True, False, True, False, True, False, False, True, True, False, False, True, False, False, True, True, False, True, False, False, True, False, False, False, False, False, False, False, True, False, True, True, True, True, True, False, True, False, False, False, False, False, False, True, False, True, False, True, True, False, True, True, False, False, True, False, False, False, False, False, False, False, True, False, True, False, False, True, False, True, True, True, True, True, False, True, False, True, False, True, False, True, False, False, False, False, True, True, True, True, True, True, False, True, False, False, True, True, False, False, True, False, False, True, True, True, False, True, True, True, True, False, False, True]|0.01296544075012207,0.010282516479492188|0]\n",
      "Solution[[False, True, False, True, False, True, False, False, False, False, True, True, False, False, False, True, False, False, True, True, True, False, True, True, True, False, False, True, False, False, True, True, False, False, True, False, False, True, False, False, False, False, True, True, False, True, False, False, False, False, False, True, True, True, False, True, True, False, False, False, False, True, True, False, False, True, True, False, True, False, True, False, True, False, True, False, True, False, True, True, False, False, True, True, False, False, False, False, False, True, False, False, True, False, False, False, False, False, True, True, True, True, True, True, True, False, False, False, True, True, True, False, True, False, True, False, True, False, True, False, True, False, True, True, True, False]|0.012627124786376953,0.010835886001586914|0]\n"
     ]
    }
   ],
   "source": [
    "for solution in unique(nondominated(algorithm4.result)):\n",
    "    print(solution)"
   ]
  },
  {
   "cell_type": "code",
   "execution_count": 114,
   "metadata": {},
   "outputs": [],
   "source": [
    "# from platypus import *\n",
    "# import matplotlib.pyplot as plt\n",
    "# from mpl_toolkits.mplot3d import Axes3D\n",
    "\n",
    "# # setup the experiment\n",
    "# algorithms = [\n",
    "#                 SPEA2,\n",
    "#                 NSGAII,\n",
    "#                 PAES\n",
    "# ]\n",
    "\n",
    "# # run the experiment using Python 3's concurrent futures for parallel evaluation\n",
    "# with ProcessPoolEvaluator() as evaluator:\n",
    "#     results = experiment(algorithms, problem, seeds=10, nfe=10000, evaluator=evaluator)\n",
    "\n"
   ]
  },
  {
   "cell_type": "code",
   "execution_count": 47,
   "metadata": {},
   "outputs": [],
   "source": [
    "def avg(num):\n",
    "    sumOfNumbers = 0\n",
    "    for t in num:\n",
    "        sumOfNumbers = sumOfNumbers + t\n",
    "\n",
    "    avge = sumOfNumbers / len(num)\n",
    "    return avge\n"
   ]
  },
  {
   "cell_type": "markdown",
   "metadata": {},
   "source": [
    "-O0\n",
    "No optimization (the default); generates unoptimized code but has the fastest compilation time.\n",
    "\n",
    "Note that many other compilers do substantial optimization even if ’no optimization’ is specified. With gcc, it is very unusual to use -O0 for production if execution time is of any concern, since -O0 means (almost) no optimization. This difference between gcc and other compilers should be kept in mind when doing performance comparisons.\n",
    "\n",
    "*\n",
    "-O1\n",
    "Moderate optimization; optimizes reasonably well but does not degrade compilation time significantly.\n",
    "\n",
    "*\n",
    "-O2\n",
    "Full optimization; generates highly optimized code and has the slowest compilation time.\n",
    "\n",
    "*\n",
    "-O3\n",
    "Full optimization as in -O2; also uses more aggressive automatic inlining of subprograms within a unit (Inlining of Subprograms) and attempts to vectorize loops.\n",
    "\n",
    "*\n",
    "-Os\n",
    "Optimize space usage (code and data) of resulting program."
   ]
  },
  {
   "cell_type": "code",
   "execution_count": 72,
   "metadata": {},
   "outputs": [
    {
     "name": "stdout",
     "output_type": "stream",
     "text": [
      "-O3  Compilation time: 2.4175119400024414ms, Execution time: 3.456397294998169ms\n",
      "-O2  Compilation time: 2.321976900100708ms, Execution time: 5.552298069000244ms\n",
      "-O1  Compilation time: 2.065110445022583ms, Execution time: 5.447606563568115ms\n",
      "-O0  Compilation time: 1.7824738025665283ms, Execution time: 12.612908840179443ms\n"
     ]
    }
   ],
   "source": [
    "import subprocess as sp\n",
    "import random\n",
    "import time\n",
    "o_ct = {\n",
    "    \"O0\": [],\n",
    "    \"O1\": [],\n",
    "    \"O2\": [],\n",
    "    \"O3\": [],\n",
    "}\n",
    "o_et = {\n",
    "    \"O0\": [],\n",
    "    \"O1\": [],\n",
    "    \"O2\": [],\n",
    "    \"O3\": [],\n",
    "}\n",
    "import time\n",
    "\n",
    "for i in range(3, -1, -1):\n",
    "\n",
    "    iters = 1\n",
    "    while iters:\n",
    "        iters = iters - 1\n",
    "        total_ct = 0\n",
    "        total_et = 0\n",
    "        for j, cfile in enumerate(c_files):\n",
    "            outfile = randomString() + \".out\"\n",
    "            cmdBuild = [\"gcc\", \"-O\" + str(i), cfile, \"-o\", \"./benchmarks/executables/\" + outfile, \"-lm\"]\n",
    "            tick = time.time()\n",
    "            p = sp.call(cmdBuild)\n",
    "\n",
    "            tock = time.time()\n",
    "            total_ct += (tock-tick)\n",
    "\n",
    "            cmd = [\"./benchmarks/executables/\" + outfile]\n",
    "            tick = time.time()\n",
    "            p = sp.call(cmd)\n",
    "            tock = time.time()\n",
    "            total_et += (tock-tick)\n",
    "            os.remove(\"./benchmarks/executables/\" + outfile)\n",
    "\n",
    "        o_ct[\"O\" + str(i)].append(total_ct)\n",
    "        o_et[\"O\" + str(i)].append(total_et)\n",
    "\n",
    "    print(\"-O{}  Compilation time: {}ms, Execution time: {}ms\".format(i, avg(o_ct[\"O\" + str(i)]), avg(o_et[\"O\" + str(i)])))\n"
   ]
  },
  {
   "cell_type": "code",
   "execution_count": 51,
   "metadata": {},
   "outputs": [
    {
     "data": {
      "text/plain": [
       "([828.6757469177246,\n",
       "  823.3118057250977,\n",
       "  828.5455703735352,\n",
       "  828.9527893066406,\n",
       "  853.9257049560547,\n",
       "  825.1192569732666,\n",
       "  825.1433372497559,\n",
       "  826.6949653625488,\n",
       "  821.2251663208008,\n",
       "  848.6001491546631],\n",
       " [5749.755144119263,\n",
       "  5921.046733856201,\n",
       "  5750.653982162476,\n",
       "  5720.6666469573975,\n",
       "  5706.303834915161,\n",
       "  5906.599998474121,\n",
       "  5762.421131134033,\n",
       "  5760.258674621582,\n",
       "  5961.928367614746,\n",
       "  5709.623098373413])"
      ]
     },
     "execution_count": 51,
     "metadata": {},
     "output_type": "execute_result"
    }
   ],
   "source": [
    "spea_ct = []\n",
    "spea_et = []\n",
    "\n",
    "for solution in unique(nondominated(algorithm.result)):\n",
    "    spea_ct.append(list(solution.objectives)[0]*1000)\n",
    "    spea_et.append(list(solution.objectives)[1]*1000)\n",
    "spea_ct, spea_et"
   ]
  },
  {
   "cell_type": "code",
   "execution_count": 353,
   "metadata": {},
   "outputs": [
    {
     "data": {
      "text/plain": [
       "([10.935544967651367,\n",
       "  17.719268798828125,\n",
       "  15.231609344482422,\n",
       "  13.178586959838867,\n",
       "  12.049436569213867,\n",
       "  11.411905288696289,\n",
       "  12.91513442993164,\n",
       "  11.385440826416016,\n",
       "  11.196136474609375],\n",
       " [11.214494705200195,\n",
       "  9.43613052368164,\n",
       "  10.364770889282227,\n",
       "  10.509729385375977,\n",
       "  10.762929916381836,\n",
       "  10.859489440917969,\n",
       "  10.677814483642578,\n",
       "  11.138439178466797,\n",
       "  11.166095733642578])"
      ]
     },
     "execution_count": 353,
     "metadata": {},
     "output_type": "execute_result"
    }
   ],
   "source": [
    "nsga_ct = []\n",
    "nsga_et = []\n",
    "\n",
    "for solution in unique(nondominated(algorithm2.result)):\n",
    "    nsga_ct.append(list(solution.objectives)[0]*1000)\n",
    "    nsga_et.append(list(solution.objectives)[1]*1000)\n",
    "nsga_ct, nsga_et"
   ]
  },
  {
   "cell_type": "code",
   "execution_count": 354,
   "metadata": {},
   "outputs": [
    {
     "data": {
      "text/plain": [
       "([11.170625686645508,\n",
       "  18.037080764770508,\n",
       "  11.665821075439453,\n",
       "  11.814117431640625,\n",
       "  12.168645858764648,\n",
       "  10.666608810424805,\n",
       "  13.717174530029297,\n",
       "  13.264179229736328,\n",
       "  11.657953262329102,\n",
       "  11.303901672363281],\n",
       " [12.287616729736328,\n",
       "  10.340690612792969,\n",
       "  11.359691619873047,\n",
       "  10.895013809204102,\n",
       "  10.821819305419922,\n",
       "  13.18979263305664,\n",
       "  10.703325271606445,\n",
       "  10.801553726196289,\n",
       "  11.975288391113281,\n",
       "  12.09115982055664])"
      ]
     },
     "execution_count": 354,
     "metadata": {},
     "output_type": "execute_result"
    }
   ],
   "source": [
    "paes_ct = []\n",
    "paes_et = []\n",
    "\n",
    "for solution in unique(nondominated(algorithm3.result)):\n",
    "    paes_ct.append(list(solution.objectives)[0]*1000)\n",
    "    paes_et.append(list(solution.objectives)[1]*1000)\n",
    "paes_ct, paes_et"
   ]
  },
  {
   "cell_type": "code",
   "execution_count": 355,
   "metadata": {},
   "outputs": [
    {
     "data": {
      "text/plain": [
       "([11.132240295410156, 12.96544075012207, 12.627124786376953],\n",
       " [11.124134063720703, 10.282516479492188, 10.835886001586914])"
      ]
     },
     "execution_count": 355,
     "metadata": {},
     "output_type": "execute_result"
    }
   ],
   "source": [
    "moead_ct = []\n",
    "moead_et = []\n",
    "\n",
    "for solution in unique(nondominated(algorithm4.result)):\n",
    "    moead_ct.append(list(solution.objectives)[0]*1000)\n",
    "    moead_et.append(list(solution.objectives)[1]*1000)\n",
    "moead_ct, moead_et"
   ]
  },
  {
   "cell_type": "code",
   "execution_count": 360,
   "metadata": {},
   "outputs": [
    {
     "data": {
      "image/png": "[encoded data removed]",
      "text/plain": [
       "<Figure size 432x288 with 1 Axes>"
      ]
     },
     "metadata": {
      "needs_background": "light"
     },
     "output_type": "display_data"
    }
   ],
   "source": [
    "# plt.plot(paes_ct, paes_et, \"y>\")\n",
    "plt.plot(nsga_ct, nsga_et, \"r*\")\n",
    "plt.plot(spea_ct, spea_et, \"g^\")\n",
    "plt.plot(moead_ct, moead_et, \"bs\")\n",
    "\n",
    "plt.xlabel(\"Compilation Time(in ms)\")\n",
    "plt.ylabel(\"Execution Time(in ms)\")\n",
    "plt.title(\"Comparision of Compilation and Execution time \\n of various compiler optimization approaches\")\n",
    "plt.show()"
   ]
  },
  {
   "cell_type": "code",
   "execution_count": 365,
   "metadata": {},
   "outputs": [
    {
     "data": {
      "text/plain": [
       "[24.011611938476562]"
      ]
     },
     "execution_count": 365,
     "metadata": {},
     "output_type": "execute_result"
    }
   ],
   "source": [
    "[avg(o_et[\"O0\"]),]"
   ]
  },
  {
   "cell_type": "code",
   "execution_count": 394,
   "metadata": {},
   "outputs": [
    {
     "data": {
      "text/plain": [
       "Text(0.5, 1.0, 'Comparision of Compilation and Execution time \\n of various compiler optimization approaches')"
      ]
     },
     "execution_count": 394,
     "metadata": {},
     "output_type": "execute_result"
    },
    {
     "data": {
      "image/png": "[encoded data removed]",
      "text/plain": [
       "<Figure size 432x288 with 1 Axes>"
      ]
     },
     "metadata": {
      "needs_background": "light"
     },
     "output_type": "display_data"
    }
   ],
   "source": [
    "# for marker in ['o', '.', ',', 'x', '+', 'v', '^', '<', '>', 's', 'd']:\n",
    "plt.plot([avg(spea_ct),], [avg(spea_et),], '.',\n",
    "         label=\"marker=SPEA2\")\n",
    "\n",
    "plt.plot([avg(nsga_ct),], [avg(nsga_et),], '+',\n",
    "         label=\"marker=NSGA2\")\n",
    "\n",
    "plt.plot([avg(paes_ct),], [avg(paes_et),], 'v',\n",
    "         label=\"marker=PAES\")\n",
    "\n",
    "plt.plot([avg(o_et[\"O0\"]),], [avg(o_et[\"O0\"]),], '^',\n",
    "         label=\"marker=O0\")\n",
    "\n",
    "plt.plot([avg(o_et[\"O1\"]),], [avg(o_et[\"O1\"]),], '<',\n",
    "         label=\"marker=O1\")\n",
    "\n",
    "plt.plot([avg(o_et[\"O2\"])], [avg(o_et[\"O2\"]),], '>',\n",
    "         label=\"marker=O2\")\n",
    "\n",
    "plt.plot([avg(o_et[\"O3\"]),], [avg(o_et[\"O3\"]),], 'x',\n",
    "         label=\"marker=O3\")\n",
    "\n",
    "plt.plot([avg(rand_ct)*1000,], [avg(rand_et)*1000,], '*',\n",
    "         label=\"marker=Random\")\n",
    "\n",
    "plt.legend(numpoints=1)\n",
    "plt.xlim(0, 50);\n",
    "plt.xlabel(\"Compilation Time(in ms)\")\n",
    "plt.ylabel(\"Execution Time(in ms)\")\n",
    "plt.title(\"Comparision of Compilation and Execution time \\n of various compiler optimization approaches\")"
   ]
  },
  {
   "cell_type": "code",
   "execution_count": 117,
   "metadata": {},
   "outputs": [
    {
     "name": "stdout",
     "output_type": "stream",
     "text": [
      "SPEA2\n",
      "    Problem\n",
      "        Hypervolume : [0.98976, 0.99049, 0.98976, 0.99003, 0.99015, 0.9899, 0.99003, 0.98962, 0.98969, 0.98966]\n",
      "NSGAII\n",
      "    Problem\n",
      "        Hypervolume : [0.9889, 0.98906, 0.98942, 0.98982, 0.98911, 0.98945, 0.98918, 0.9893, 0.9898, 0.98934]\n",
      "PAES\n",
      "    Problem\n",
      "        Hypervolume : [0.98881, 0.98844, 0.9888, 0.98883, 0.9905, 0.99041, 0.99057, 0.99043, 0.99052, 0.99056]\n",
      "OrderedDict([('SPEA2', {'Problem': {'Hypervolume': [0.9897584376593613, 0.9904923838126933, 0.9897563126028217, 0.9900295029344193, 0.9901523011757831, 0.9899011498033587, 0.990030471521095, 0.9896150783939675, 0.9896877316717223, 0.9896647154217248]}}), ('NSGAII', {'Problem': {'Hypervolume': [0.9888980585582772, 0.9890626009477614, 0.989423174399974, 0.9898192308718308, 0.9891058941561823, 0.9894521410810739, 0.9891750035438349, 0.9893018713889319, 0.9897953869138405, 0.9893353722196139]}}), ('PAES', {'Problem': {'Hypervolume': [0.988812530615462, 0.9884364097639491, 0.9888000916137685, 0.9888287406703853, 0.9904967106846243, 0.9904075404319315, 0.9905723577910521, 0.9904341892136586, 0.9905193578165381, 0.9905569549911775]}})])\n"
     ]
    }
   ],
   "source": [
    "from platypus import Hypervolume, experiment, calculate, display\n",
    "\n",
    "hyp = Hypervolume(minimum=[0, 0, 0], maximum=[1, 1, 1])\n",
    "hyp_result = calculate(results, hyp)\n",
    "display(hyp_result, ndigits=5)\n",
    "\n",
    "print(hyp_result)"
   ]
  },
  {
   "cell_type": "code",
   "execution_count": 145,
   "metadata": {},
   "outputs": [
    {
     "data": {
      "text/plain": [
       "Text(0, 0.5, 'obj2')"
      ]
     },
     "execution_count": 145,
     "metadata": {},
     "output_type": "execute_result"
    },
    {
     "data": {
      "image/png": "[encoded data removed]",
      "text/plain": [
       "<Figure size 432x288 with 1 Axes>"
      ]
     },
     "metadata": {
      "needs_background": "light"
     },
     "output_type": "display_data"
    }
   ],
   "source": [
    "import matplotlib.pyplot as plt\n",
    "\n",
    "cases = ['before', 'after'] \n",
    "objectives = ['obj1', 'obj2']\n",
    "colors = ['red', 'yellow']\n",
    "\n",
    "fig, axes = plt.subplots()  \n",
    "j = 0\n",
    "obj1 = sorted(hyp_result[\"SPEA2\"][\"Problem\"][\"Hypervolume\"])\n",
    "obj2 = sorted(hyp_result[\"NSGAII\"][\"Problem\"][\"Hypervolume\"])\n",
    "\n",
    "#Plot the first two pts outside the loop to display the label\n",
    "axes.plot([obj1[0], obj1[0]], [obj2[0], obj2[1]], \n",
    "          color=colors[j],\n",
    "          )       \n",
    "axes.plot([obj1[0], obj1[1]], [obj2[1], obj2[1]], \n",
    "          color=colors[j])\n",
    "\n",
    "for i in range(2, len(obj1)):\n",
    "    axes.plot([obj1[i - 1], obj1[i - 1]], [obj2[i - 1], obj2[i]], \n",
    "              color=colors[j])       \n",
    "    axes.plot([obj1[i - 1], obj1[i]], [obj2[i], obj2[i]], \n",
    "              color=colors[j])\n",
    "\n",
    "axes.set_xlabel(objectives[0])\n",
    "axes.set_ylabel(objectives[1])\n",
    "\n",
    "# axes.plot(0.1,\n",
    "#           0.1,\n",
    "# #           '*',\n",
    "#           label='nadir')    \n",
    "# axes.plot(ideal_r[0],\n",
    "#           ideal_r[1],\n",
    "#           'x',\n",
    "#           label='ideal')  \n",
    "\n",
    "# plt.xlim(nadir_r[0], ideal_r[0])\n",
    "# plt.ylim(ideal_r[1], nadir_r[1])\n",
    "\n"
   ]
  },
  {
   "cell_type": "code",
   "execution_count": 215,
   "metadata": {},
   "outputs": [
    {
     "data": {
      "text/plain": [
       "<Figure size 432x288 with 0 Axes>"
      ]
     },
     "metadata": {},
     "output_type": "display_data"
    },
    {
     "data": {
      "image/png": "[encoded data removed]",
      "text/plain": [
       "<Figure size 432x288 with 1 Axes>"
      ]
     },
     "metadata": {
      "needs_background": "light"
     },
     "output_type": "display_data"
    }
   ],
   "source": [
    "import matplotlib.pyplot as plt\n",
    "import numpy as np\n",
    "fig = plt.figure()\n",
    "\n",
    "X = np.arange(4)\n",
    "fig = plt.figure()\n",
    "ax = fig.add_axes([0,0,1,1])\n",
    "\n",
    "for i in range(len(o_ct)):\n",
    "    o_ct[i] = o_ct[i]*1000\n",
    "for i in range(len(o_et)):\n",
    "    o_et[i] = o_et[i]*1000\n",
    "    \n",
    "ax.bar(X + 0.00, o_ct, color = 'r', width = 0.2, label = \"Compilation Time\", alpha = 0.8)\n",
    "ax.bar(X + 0.2, o_et, color = 'y', width = 0.2, label = \"Execution Time\", alpha = 0.8)\n",
    "\n",
    "plt.xlabel(\"\")\n",
    "plt.ylabel(\"Time(in sec)\")\n",
    "plt.title('Compilation and Execution time of Optimization levels')\n",
    "plt.xticks(X + 0.1, ('- O0', '- O1', '- O2', '- O3'))\n",
    "\n",
    "plt.legend()\n",
    "\n",
    "plt.tight_layout()\n",
    "plt.show()"
   ]
  },
  {
   "cell_type": "code",
   "execution_count": 207,
   "metadata": {},
   "outputs": [
    {
     "data": {
      "text/plain": [
       "<Figure size 432x288 with 0 Axes>"
      ]
     },
     "metadata": {},
     "output_type": "display_data"
    },
    {
     "data": {
      "image/png": "[encoded data removed]",
      "text/plain": [
       "<Figure size 432x288 with 1 Axes>"
      ]
     },
     "metadata": {
      "needs_background": "light"
     },
     "output_type": "display_data"
    }
   ],
   "source": [
    "import matplotlib.pyplot as plt\n",
    "import numpy as np\n",
    "fig = plt.figure()\n",
    "\n",
    "speedup_spea_ct = []\n",
    "speedup_spea_et = []\n",
    "\n",
    "for i in o_ct:\n",
    "    speedup_spea_ct.append( i/avg(spea_ct) )\n",
    "\n",
    "for i in o_et:\n",
    "    speedup_spea_et.append( i/avg(spea_et) )\n",
    "\n",
    "X = np.arange(4)\n",
    "fig = plt.figure()\n",
    "ax = fig.add_axes([0,0,1,1])\n",
    "ax.bar(X + 0.00, speedup_spea_ct, color = 'r', width = 0.2, label = \"Compilation Time\", alpha = 0.8)\n",
    "ax.bar(X + 0.2, speedup_spea_et, color = 'y', width = 0.2, label = \"Execution Time\", alpha = 0.8)\n",
    "\n",
    "plt.xlabel(\"\")\n",
    "plt.ylabel(\"Speedup\")\n",
    "plt.title('Speedup SPEA2 with default Optimization levels')\n",
    "plt.xticks(X + 0.1, ('- O0', '- O1', '- O2', '- O3'))\n",
    "\n",
    "plt.legend()\n",
    "\n",
    "plt.tight_layout()\n",
    "plt.show()"
   ]
  },
  {
   "cell_type": "code",
   "execution_count": 208,
   "metadata": {},
   "outputs": [
    {
     "data": {
      "text/plain": [
       "<Figure size 432x288 with 0 Axes>"
      ]
     },
     "metadata": {},
     "output_type": "display_data"
    },
    {
     "data": {
      "image/png": "[encoded data removed]",
      "text/plain": [
       "<Figure size 432x288 with 1 Axes>"
      ]
     },
     "metadata": {
      "needs_background": "light"
     },
     "output_type": "display_data"
    }
   ],
   "source": [
    "import matplotlib.pyplot as plt\n",
    "import numpy as np\n",
    "fig = plt.figure()\n",
    "\n",
    "speedup_nsga_ct = []\n",
    "speedup_nsga_et = []\n",
    "\n",
    "for i in o_ct:\n",
    "    speedup_nsga_ct.append( i/avg(nsga_ct) )\n",
    "\n",
    "for i in o_et:\n",
    "    speedup_nsga_et.append( i/avg(nsga_et) )\n",
    "\n",
    "X = np.arange(4)\n",
    "fig = plt.figure()\n",
    "ax = fig.add_axes([0,0,1,1])\n",
    "ax.bar(X + 0.00, speedup_nsga_ct, color = 'r', width = 0.2, label = \"Compilation Time\", alpha = 0.8)\n",
    "ax.bar(X + 0.2, speedup_nsga_et, color = 'y', width = 0.2, label = \"Execution Time\", alpha = 0.8)\n",
    "\n",
    "plt.xlabel(\"\")\n",
    "plt.ylabel(\"Speedup\")\n",
    "plt.title('Speedup NSGA with default Optimization levels')\n",
    "plt.xticks(X + 0.1, ('- O0', '- O1', '- O2', '- O3'))\n",
    "\n",
    "plt.legend()\n",
    "\n",
    "plt.tight_layout()\n",
    "plt.show()"
   ]
  },
  {
   "cell_type": "code",
   "execution_count": 214,
   "metadata": {},
   "outputs": [
    {
     "data": {
      "text/plain": [
       "<Figure size 432x288 with 0 Axes>"
      ]
     },
     "metadata": {},
     "output_type": "display_data"
    },
    {
     "data": {
      "image/png": "[encoded data removed]",
      "text/plain": [
       "<Figure size 432x288 with 1 Axes>"
      ]
     },
     "metadata": {
      "needs_background": "light"
     },
     "output_type": "display_data"
    }
   ],
   "source": [
    "import matplotlib.pyplot as plt\n",
    "import numpy as np\n",
    "fig = plt.figure()\n",
    "\n",
    "speedup_paes_ct = []\n",
    "speedup_paes_et = []\n",
    "\n",
    "for i in o_ct:\n",
    "    speedup_paes_ct.append( i/avg(paes_ct) )\n",
    "\n",
    "for i in o_et:\n",
    "    speedup_paes_et.append( i/avg(paes_et) )\n",
    "\n",
    "X = np.arange(4)\n",
    "fig = plt.figure()\n",
    "ax = fig.add_axes([0,0,1,1])\n",
    "ax.bar(X + 0.00, speedup_paes_ct, color = 'r', width = 0.2, label = \"Compilation Time\", alpha = 0.8)\n",
    "ax.bar(X + 0.2, speedup_paes_et, color = 'y', width = 0.2, label = \"Execution Time\", alpha = 0.8)\n",
    "\n",
    "plt.xlabel(\"\")\n",
    "plt.ylabel(\"Speedup\")\n",
    "plt.title('Speedup PAES with default Optimization levels')\n",
    "plt.xticks(X + 0.1, ('- O0', '- O1', '- O2', '- O3'))\n",
    "\n",
    "plt.legend()\n",
    "\n",
    "plt.tight_layout()\n",
    "plt.show()"
   ]
  },
  {
   "cell_type": "code",
   "execution_count": 196,
   "metadata": {},
   "outputs": [
    {
     "data": {
      "text/plain": [
       "0.517932992371706"
      ]
     },
     "execution_count": 196,
     "metadata": {},
     "output_type": "execute_result"
    }
   ],
   "source": [
    "avg(spea_ct)/o_ct[0]"
   ]
  },
  {
   "cell_type": "code",
   "execution_count": 256,
   "metadata": {},
   "outputs": [
    {
     "data": {
      "text/plain": [
       "4096"
      ]
     },
     "execution_count": 256,
     "metadata": {},
     "output_type": "execute_result"
    }
   ],
   "source": [
    "import os\n",
    "t3 = os.stat('./a.out').st_size\n",
    "t3"
   ]
  },
  {
   "cell_type": "code",
   "execution_count": 395,
   "metadata": {},
   "outputs": [
    {
     "name": "stdout",
     "output_type": "stream",
     "text": [
      "/benchmarks/almabench.c\n",
      "/benchmarks/huffbench.c\n",
      "/benchmarks/linbench.c\n",
      "/benchmarks/fftbench.c\n",
      "/benchmarks/mat1bench.c\n",
      "/benchmarks/treebench.c\n",
      "/benchmarks/evobench.c\n",
      "/benchmarks/linsmall.c\n",
      "/benchmarks/distbench.c\n",
      "2\n",
      "4950014284256708498112126"
     ]
    }
   ],
   "source": [
    "import os\n",
    "\n",
    "\n",
    "# ! gcc test.c -o executable\n",
    "# ! ./executable"
   ]
  },
  {
   "cell_type": "code",
   "execution_count": 252,
   "metadata": {},
   "outputs": [
    {
     "ename": "FileExistsError",
     "evalue": "[Errno 17] File exists: './a.out'",
     "output_type": "error",
     "traceback": [
      "\u001b[0;31m---------------------------------------------------------------------------\u001b[0m",
      "\u001b[0;31mFileExistsError\u001b[0m                           Traceback (most recent call last)",
      "\u001b[0;32m<ipython-input-252-846edad06edf>\u001b[0m in \u001b[0;36m<module>\u001b[0;34m\u001b[0m\n\u001b[0;32m----> 1\u001b[0;31m \u001b[0mos\u001b[0m\u001b[0;34m.\u001b[0m\u001b[0mmkdir\u001b[0m\u001b[0;34m(\u001b[0m\u001b[0;34m\"./a.out\"\u001b[0m\u001b[0;34m)\u001b[0m\u001b[0;34m\u001b[0m\u001b[0m\n\u001b[0m",
      "\u001b[0;31mFileExistsError\u001b[0m: [Errno 17] File exists: './a.out'"
     ]
    }
   ],
   "source": [
    "os.mkdir(\"./a.out\")"
   ]
  },
  {
   "cell_type": "code",
   "execution_count": null,
   "metadata": {},
   "outputs": [],
   "source": []
  }
 ],
 "metadata": {
  "kernelspec": {
   "display_name": "Python 3",
   "language": "python",
   "name": "python3"
  },
  "language_info": {
   "codemirror_mode": {
    "name": "ipython",
    "version": 3
   },
   "file_extension": ".py",
   "mimetype": "text/x-python",
   "name": "python",
   "nbconvert_exporter": "python",
   "pygments_lexer": "ipython3",
   "version": "3.6.8"
  }
 },
 "nbformat": 4,
 "nbformat_minor": 2
}
